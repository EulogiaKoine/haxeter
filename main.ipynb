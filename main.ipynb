{
 "cells": [
  {
   "attachments": {},
   "cell_type": "markdown",
   "metadata": {},
   "source": [
    "<h1 style=\"text-align:center; font-size: 5rem; margin-bottom: 20px;\"><b><font color=\"#bdeff6\">Haxeter</font> <font color=\"#f8c758\">RPG</font></b></h1>\n",
    "<hr style=\"height: 3px; background: rgba(95,214,253,0.5); border: 0\"/>"
   ]
  },
  {
   "attachments": {},
   "cell_type": "markdown",
   "metadata": {},
   "source": [
    "\n",
    "<font color=\"lightgray\" size=\"2px\"><i><sup>*구글 Colab에서도 돌아가기는 하지만, 보다 나은 플레이를 위해 되도록 Visual Studio Code나 Jupyter Notebook등 ipynb 전용 IDE에서의 사용을 권장합니다. 보기 좋게...</sup></i></font>"
   ]
  },
  {
   "cell_type": "code",
   "execution_count": 1,
   "metadata": {},
   "outputs": [
    {
     "name": "stdout",
     "output_type": "stream",
     "text": [
      "Collecting git+https://github.com/EulogiaKoine/haxeter\n",
      "  Cloning https://github.com/EulogiaKoine/haxeter to c:\\users\\user\\appdata\\local\\temp\\pip-req-build-fts0fggz\n",
      "  Resolved https://github.com/EulogiaKoine/haxeter to commit 3df331e9afa7114da3809e73355499a3db6ae80e\n",
      "  Preparing metadata (setup.py): started\n",
      "  Preparing metadata (setup.py): finished with status 'done'\n"
     ]
    },
    {
     "name": "stderr",
     "output_type": "stream",
     "text": [
      "  Running command git clone --filter=blob:none --quiet https://github.com/EulogiaKoine/haxeter 'C:\\Users\\USER\\AppData\\Local\\Temp\\pip-req-build-fts0fggz'\n"
     ]
    }
   ],
   "source": [
    "!pip install git+https://github.com/EulogiaKoine/haxeter"
   ]
  },
  {
   "cell_type": "code",
   "execution_count": 2,
   "metadata": {},
   "outputs": [
    {
     "name": "stdout",
     "output_type": "stream",
     "text": [
      "ㅇㅅㅇ!\n"
     ]
    }
   ],
   "source": [
    "from haxeter import test\n",
    "test.exec()"
   ]
  },
  {
   "cell_type": "code",
   "execution_count": null,
   "metadata": {},
   "outputs": [],
   "source": [
    "from IPython.display import clear_output\n",
    "\n",
    "def main():\n",
    "    router = Router()\n",
    "    presenter = Presenter(clear_output)\n",
    "    game = Game(router, presenter)\n",
    "    while game.alive:\n",
    "        router.listen(input)"
   ]
  },
  {
   "cell_type": "code",
   "execution_count": 2,
   "metadata": {},
   "outputs": [
    {
     "ename": "NameError",
     "evalue": "name 'load' is not defined",
     "output_type": "error",
     "traceback": [
      "\u001b[1;31m---------------------------------------------------------------------------\u001b[0m",
      "\u001b[1;31mNameError\u001b[0m                                 Traceback (most recent call last)",
      "Cell \u001b[1;32mIn[2], line 4\u001b[0m\n\u001b[0;32m      2\u001b[0m loading \u001b[39m=\u001b[39m \u001b[39mTrue\u001b[39;00m\n\u001b[0;32m      3\u001b[0m \u001b[39mfor\u001b[39;00m i \u001b[39min\u001b[39;00m \u001b[39mrange\u001b[39m(\u001b[39m1\u001b[39m,\u001b[39m11\u001b[39m):\n\u001b[1;32m----> 4\u001b[0m     load(i,\u001b[39m10\u001b[39m,\u001b[39m10\u001b[39m)\n\u001b[0;32m      5\u001b[0m     time\u001b[39m.\u001b[39msleep(\u001b[39m0.5\u001b[39m)\n",
      "\u001b[1;31mNameError\u001b[0m: name 'load' is not defined"
     ]
    }
   ],
   "source": [
    "import time\n",
    "loading = True\n",
    "for i in range(1,11):\n",
    "    load(i,10,10)\n",
    "    time.sleep(0.5)"
   ]
  },
  {
   "cell_type": "code",
   "execution_count": 5,
   "metadata": {},
   "outputs": [
    {
     "name": "stdout",
     "output_type": "stream",
     "text": [
      "      🕹️ Haxeter RPG 🕹️\n",
      "\n",
      " 📜 당신의 프로필을 작성합니다.\n",
      "이름: 오경석\n"
     ]
    }
   ],
   "source": [
    "플레이()"
   ]
  },
  {
   "cell_type": "code",
   "execution_count": 2,
   "metadata": {},
   "outputs": [],
   "source": [
    "from IPython.display import clear_output\n",
    "import time\n",
    "\n",
    "def clear_line():\n",
    "    print(\"\\r\"+\"\\u200b\"*500, end=\"\")\n",
    "\n",
    "def 플레이():\n",
    "    for i in range(1,2):\n",
    "        clear_output()\n",
    "        print(\"      🕹️ Haxeter RPG 🕹️\\n\")\n",
    "        print(\" 📜 당신의 프로필을 작성합니다.\\n이름: \", end=\"\")\n",
    "        name = input(\"당신의 이름은 무엇인가요? \")\n",
    "        print(name)\n",
    "        time.sleep(1)"
   ]
  },
  {
   "cell_type": "code",
   "execution_count": 3,
   "metadata": {},
   "outputs": [],
   "source": [
    "loading = False\n",
    "def load(min, max, len):\n",
    "    if loading:\n",
    "        clear_line()\n",
    "        rate = int(len*min/max)\n",
    "        print(\"[\"+'-'*rate+\" \"*(len-rate)+f\"]   {min/max*100:.0f}%\", end=\"\")"
   ]
  },
  {
   "cell_type": "code",
   "execution_count": 8,
   "metadata": {},
   "outputs": [
    {
     "name": "stdout",
     "output_type": "stream",
     "text": [
      "약 14.545454545454547 평\n"
     ]
    }
   ],
   "source": [
    "a = int(input())\n",
    "c = 0\n",
    "result = 0\n",
    "while c < a:\n",
    "    c += 1\n",
    "    b = int(input(\"한 변의 길이(m) : \"))\n",
    "    d = int(input(\"다른 한 변의 길이(m) : \"))\n",
    "    result += b*d/3.3\n",
    "\n",
    "print(\"약\", result, \"평\")"
   ]
  },
  {
   "cell_type": "code",
   "execution_count": null,
   "metadata": {},
   "outputs": [],
   "source": [
    "(x1, y1)\n",
    "(x2, y2)\n",
    "(x3, y3)"
   ]
  },
  {
   "cell_type": "code",
   "execution_count": 13,
   "metadata": {},
   "outputs": [
    {
     "name": "stdout",
     "output_type": "stream",
     "text": [
      "1  번째 삼각형의 세 좌표의 x, y 좌표를 각각 순서대로 공백으로 구분해서 입력해주세요.\n",
      "2  번째 삼각형의 세 좌표의 x, y 좌표를 각각 순서대로 공백으로 구분해서 입력해주세요.\n",
      "12.5\n"
     ]
    }
   ],
   "source": [
    "# 삼각형의 넓이 구하는 함수\n",
    "# (a, b), (c, d), (e, f) = 평면 상의 삼각형을 이루는 각 점의 좌표\n",
    "def triangle(a, b, c, d, e, f):\n",
    "    first = (a*e)+(b*f)+(c*d)\n",
    "    second = (b*d)+(e*c)+(f*a)\n",
    "    area = (first-second)/2\n",
    "    if area >= 0:\n",
    "        return area\n",
    "    else:\n",
    "        return area * -1\n",
    "    \n",
    "\n",
    "# 삼각형의 개수\n",
    "N = int(input(\"넓이의 합을 구할 삼각형의 총 개수를 입력해주세요. \"))\n",
    "result = 0 # 넓이의 합을 누적시킬 변수\n",
    "for i in range(N): # N번 반복\n",
    "    print(i+1, \" 번째 삼각형의 세 좌표의 x, y 좌표를 각각 순서대로 공백으로 구분해서 입력해주세요.\")\n",
    "    print(\"ex) 1 3\")\n",
    "    x1, y1 = map(int, input().split()) # 첫 번째 점\n",
    "    x2, y2 = map(int, input().split()) # 두 번째 점\n",
    "    x3, y3 = map(int, input().split()) # 세 번째 점\n",
    "    area = triangle(x1, y1, x2, y2, x3, y3) # 현재 삼각형의 넓이\n",
    "    result += area # ...그 합을 result에 누적시킴\n",
    "\n",
    "print(result) # 누적 결과 출력"
   ]
  }
 ],
 "metadata": {
  "kernelspec": {
   "display_name": "base",
   "language": "python",
   "name": "python3"
  },
  "language_info": {
   "codemirror_mode": {
    "name": "ipython",
    "version": 3
   },
   "file_extension": ".py",
   "mimetype": "text/x-python",
   "name": "python",
   "nbconvert_exporter": "python",
   "pygments_lexer": "ipython3",
   "version": "3.10.9"
  },
  "orig_nbformat": 4
 },
 "nbformat": 4,
 "nbformat_minor": 2
}
