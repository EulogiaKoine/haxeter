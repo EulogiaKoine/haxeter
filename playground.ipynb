{
 "cells": [
  {
   "cell_type": "code",
   "execution_count": 1,
   "metadata": {},
   "outputs": [
    {
     "name": "stdout",
     "output_type": "stream",
     "text": [
      "Collecting git+https://github.com/EulogiaKoine/haxeter\n",
      "  Cloning https://github.com/EulogiaKoine/haxeter to c:\\users\\user\\appdata\\local\\temp\\pip-req-build-i57ygkg1\n",
      "  Resolved https://github.com/EulogiaKoine/haxeter to commit 3e364a71dd51124cea82db09c1ed4be6e9458342\n",
      "  Preparing metadata (setup.py): started\n",
      "  Preparing metadata (setup.py): finished with status 'done'\n"
     ]
    },
    {
     "name": "stderr",
     "output_type": "stream",
     "text": [
      "  Running command git clone --filter=blob:none --quiet https://github.com/EulogiaKoine/haxeter 'C:\\Users\\USER\\AppData\\Local\\Temp\\pip-req-build-i57ygkg1'\n"
     ]
    }
   ],
   "source": [
    "!pip install git+https://github.com/EulogiaKoine/haxeter"
   ]
  },
  {
   "cell_type": "code",
   "execution_count": 2,
   "metadata": {},
   "outputs": [
    {
     "name": "stdout",
     "output_type": "stream",
     "text": [
      "{'test': {'test': {'prompt': '테스트 메시지입니다.'}}}\n",
      "테스트 메시지입니다.\n"
     ]
    },
    {
     "data": {
      "text/plain": [
       "'테스트 메시지입니다.'"
      ]
     },
     "execution_count": 2,
     "metadata": {},
     "output_type": "execute_result"
    }
   ],
   "source": [
    "from haxeter.model.world.script import Script\n",
    "import os\n",
    "import json\n",
    "\n",
    "PATH = 'haxeter/db/script'\n",
    "scriptDB = {}\n",
    "for i in os.listdir(PATH):\n",
    "    f = open(PATH+'/'+i)\n",
    "    scriptDB[i[0:-5]] = json.loads(f.read())\n",
    "    f.close()\n",
    "print(scriptDB)\n",
    "\n",
    "class ScriptDB:\n",
    "    def __getitem__(self, code):\n",
    "        v = scriptDB\n",
    "        for i in code.split('.'):\n",
    "            if v[i]:\n",
    "                v = v[i]\n",
    "            else:\n",
    "                raise Exception(\"?\")\n",
    "        return v\n",
    "    \n",
    "testDB = ScriptDB()\n",
    "print(testDB['test.test.prompt'])\n",
    "\n",
    "Script.set(testDB)\n",
    "Script('test.test.prompt').read()"
   ]
  },
  {
   "cell_type": "code",
   "execution_count": 4,
   "metadata": {},
   "outputs": [],
   "source": [
    "# 계산용 함수들 정의\n",
    "\n",
    "# 수 2개를 받아 그 합을 반환\n",
    "def add(a, b):\n",
    "    return a + b\n",
    "\n",
    "# 수 2개를 받아 순서대로 뺀 값을 반환\n",
    "def sub(a, b):\n",
    "    return a - b\n",
    "\n",
    "# 수 2개를 받아 그 곱을 반환\n",
    "def mul(a, b):\n",
    "    return a * b\n",
    "\n",
    "# 수 2개를 받아 순서대로 나눈 값을 반환\n",
    "def div(a, b):\n",
    "    return a / b\n",
    "\n",
    "############ 추가 #############\n",
    "\n",
    "# n개 중 r개를 뽑아 나열하는 순열을 반환\n",
    "def P(n, r):\n",
    "    if n < r or n < 0 or r < 0:  # n이 r보다 작거나, n이나 r이 0보다 작을 경우\n",
    "        return -1  # 본래 순열에 있을 수 없는 값을 반환함으로써 오류를 표현\n",
    "    if r == 0:\n",
    "        return 1  # 계승(팩토리얼)의 정의에 따라 nP₀ = 1로 정의\n",
    "    acc = 1  # 값을 누적시킬 변수\n",
    "    for i in range(n, n-r, -1):  # n부터 n-r+1까지의 정수를 순서대로 i에 담아서...\n",
    "        acc *= i  # acc에 곱해서(*) 대입(=)\n",
    "    return acc\n",
    "\n",
    "# n개 중 r개를 뽑는 조합을 반환\n",
    "def C(n, r):\n",
    "    # 조합 계산식에 따라 계산\n",
    "    # 결과는 반드시 정수(integer)지만 나눗셈 연산은 실수(float)를 반환하므로 int를 씌워 정수로 바꿔준다.\n",
    "    return int(P(n, r) / P(r, r))  # = nPr ÷ r!\n",
    "\n",
    "def sigma(a, b):\n",
    "    result = 0\n",
    "    for i in range(a, b+1, 1):\n",
    "        result += i\n",
    "    return result\n",
    "\n",
    "def pi(a, b):\n",
    "    result = 1\n",
    "    for i in range(a, b+1, 1):\n",
    "        result *= i\n",
    "    return result"
   ]
  },
  {
   "cell_type": "code",
   "execution_count": 5,
   "metadata": {},
   "outputs": [
    {
     "name": "stdout",
     "output_type": "stream",
     "text": [
      " < 사칙연산 & 조합 계산기 >\n",
      "숫자 → 연산자 → 숫자 순으로 값을 입력하면 해당 계산 결과를 알려준다. 값이 큰 계산도 가능!\n",
      "\n",
      "연산자 종류:\n",
      " + : 덧셈\n",
      " - : 뺄셈\n",
      " * : 곱셈\n",
      " / : 나눗셈\n",
      " P : 순열\n",
      " C : 조합\n",
      "\n",
      "*입력 예시: 4 → C → 2   ⇒ 출력: 6\n",
      "\n",
      "1 ~ 8 총승 계산 결과: 40320\n"
     ]
    }
   ],
   "source": [
    "# 어떤 프로그램인지 정도는 사용자한테 안내해주는 게 좋다\n",
    "print(\" < 사칙연산 & 조합 계산기 >\")\n",
    "print(\"숫자 → 연산자 → 숫자 순으로 값을 입력하면 해당 계산 결과를 알려준다. 값이 큰 계산도 가능!\\n\")\n",
    "print(\"연산자 종류:\")\n",
    "print(\" + : 덧셈\")\n",
    "print(\" - : 뺄셈\")\n",
    "print(\" * : 곱셈\")\n",
    "print(\" / : 나눗셈\")\n",
    "print(\" P : 순열\")\n",
    "print(\" C : 조합\")\n",
    "print(\"\\n*입력 예시: 4 → C → 2   ⇒ 출력: 6\")\n",
    "print()\n",
    "\n",
    "a = int(input(\"첫 번째 숫자를 입력하세요: \"))\n",
    "op = input(\"연산자를 입력하세요.\")\n",
    "b = int(input(\"두 번째 숫자를 입력하세요: \"))\n",
    "\n",
    "if op == '+':\n",
    "    print(\"덧셈 결과:\", add(a, b))\n",
    "elif op == '-':\n",
    "    print(\"뺄셈 결과:\", sub(a, b))\n",
    "elif op == '*':\n",
    "    print(\"곱셈 결과:\", mul(a, b))\n",
    "elif op == '/':\n",
    "    print(\"나눗셈 결과:\", div(a, b))\n",
    "elif op == 'P':\n",
    "    print(\"순열 계산 결과:\", P(a, b))\n",
    "elif op == 'C':\n",
    "    print(\"조합 계산 결과:\", C(a, b))\n",
    "elif op == 'si':\n",
    "    print(a, \"~\", b, \"총합 계산 결과:\", sigma(a, b))\n",
    "elif op == 'pi':\n",
    "    print(a, \"~\", b, \"총승 계산 결과:\", pi(a, b))\n",
    "else:\n",
    "    print(\"잘못된 연산자입니다.\")"
   ]
  },
  {
   "cell_type": "code",
   "execution_count": 1,
   "metadata": {},
   "outputs": [],
   "source": [
    "from haxeter.module import *\n",
    "import haxeter.script as sc\n",
    "from IPython.display import clear_output\n",
    "\n",
    "Interface.setClearOutput(clear_output)\n",
    "Interface.setHeader(\" < game >\")\n",
    "Interface.setFooter(\"--------\")\n",
    "Interface.setCmdTag(' ▶ ')"
   ]
  },
  {
   "cell_type": "code",
   "execution_count": 2,
   "metadata": {},
   "outputs": [
    {
     "name": "stdout",
     "output_type": "stream",
     "text": [
      " < game >\n",
      "\n",
      "\n",
      "test\n",
      "\n",
      "\n",
      "\n",
      "--------\n"
     ]
    },
    {
     "data": {
      "text/plain": [
       "'ㅇㅅㅇ'"
      ]
     },
     "execution_count": 2,
     "metadata": {},
     "output_type": "execute_result"
    }
   ],
   "source": [
    "Interface.present(\"test\")\n",
    "Interface.route()"
   ]
  }
 ],
 "metadata": {
  "kernelspec": {
   "display_name": "base",
   "language": "python",
   "name": "python3"
  },
  "language_info": {
   "codemirror_mode": {
    "name": "ipython",
    "version": 3
   },
   "file_extension": ".py",
   "mimetype": "text/x-python",
   "name": "python",
   "nbconvert_exporter": "python",
   "pygments_lexer": "ipython3",
   "version": "3.10.9"
  },
  "orig_nbformat": 4
 },
 "nbformat": 4,
 "nbformat_minor": 2
}
