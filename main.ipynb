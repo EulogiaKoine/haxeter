{
 "cells": [
  {
   "attachments": {},
   "cell_type": "markdown",
   "metadata": {},
   "source": [
    "<h1 style=\"text-align:center; font-size: 5rem; margin-bottom: 20px;\"><b><font color=\"#bdeff6\">Haxeter</font> <font color=\"#f8c758\">RPG</font></b></h1>\n",
    "<hr style=\"height: 3px; background: rgba(95,214,253,0.5); border: 0\"/>"
   ]
  },
  {
   "attachments": {},
   "cell_type": "markdown",
   "metadata": {},
   "source": [
    "\n",
    "<font color=\"lightgray\" size=\"2px\"><i><sup>*구글 Colab에서도 돌아가기는 하지만, 보다 나은 플레이를 위해 되도록 Visual Studio Code나 Jupyter Notebook등 ipynb 전용 IDE에서의 사용을 권장합니다. 보기 좋게...</sup></i></font>"
   ]
  },
  {
   "cell_type": "code",
   "execution_count": 4,
   "metadata": {},
   "outputs": [
    {
     "name": "stdout",
     "output_type": "stream",
     "text": [
      "success\n"
     ]
    },
    {
     "name": "stderr",
     "output_type": "stream",
     "text": [
      "'py'��(��) ���� �Ǵ� �ܺ� ����, ������ �� �ִ� ���α׷�, �Ǵ�\n",
      "��ġ ������ �ƴմϴ�.\n"
     ]
    }
   ],
   "source": []
  },
  {
   "cell_type": "code",
   "execution_count": null,
   "metadata": {},
   "outputs": [],
   "source": [
    "from IPython.display import clear_output\n",
    "\n",
    "def main():\n",
    "    router = Router()\n",
    "    presenter = Presenter(clear_output)\n",
    "    game = Game(router, presenter)\n",
    "    while game.alive:\n",
    "        router.listen(input)"
   ]
  },
  {
   "cell_type": "code",
   "execution_count": 2,
   "metadata": {},
   "outputs": [
    {
     "ename": "NameError",
     "evalue": "name 'load' is not defined",
     "output_type": "error",
     "traceback": [
      "\u001b[1;31m---------------------------------------------------------------------------\u001b[0m",
      "\u001b[1;31mNameError\u001b[0m                                 Traceback (most recent call last)",
      "Cell \u001b[1;32mIn[2], line 4\u001b[0m\n\u001b[0;32m      2\u001b[0m loading \u001b[39m=\u001b[39m \u001b[39mTrue\u001b[39;00m\n\u001b[0;32m      3\u001b[0m \u001b[39mfor\u001b[39;00m i \u001b[39min\u001b[39;00m \u001b[39mrange\u001b[39m(\u001b[39m1\u001b[39m,\u001b[39m11\u001b[39m):\n\u001b[1;32m----> 4\u001b[0m     load(i,\u001b[39m10\u001b[39m,\u001b[39m10\u001b[39m)\n\u001b[0;32m      5\u001b[0m     time\u001b[39m.\u001b[39msleep(\u001b[39m0.5\u001b[39m)\n",
      "\u001b[1;31mNameError\u001b[0m: name 'load' is not defined"
     ]
    }
   ],
   "source": [
    "import time\n",
    "loading = True\n",
    "for i in range(1,11):\n",
    "    load(i,10,10)\n",
    "    time.sleep(0.5)"
   ]
  },
  {
   "cell_type": "code",
   "execution_count": 5,
   "metadata": {},
   "outputs": [
    {
     "name": "stdout",
     "output_type": "stream",
     "text": [
      "      🕹️ Haxeter RPG 🕹️\n",
      "\n",
      " 📜 당신의 프로필을 작성합니다.\n",
      "이름: 오경석\n"
     ]
    }
   ],
   "source": [
    "플레이()"
   ]
  },
  {
   "cell_type": "code",
   "execution_count": 2,
   "metadata": {},
   "outputs": [],
   "source": [
    "from IPython.display import clear_output\n",
    "import time\n",
    "\n",
    "def clear_line():\n",
    "    print(\"\\r\"+\"\\u200b\"*500, end=\"\")\n",
    "\n",
    "def 플레이():\n",
    "    for i in range(1,2):\n",
    "        clear_output()\n",
    "        print(\"      🕹️ Haxeter RPG 🕹️\\n\")\n",
    "        print(\" 📜 당신의 프로필을 작성합니다.\\n이름: \", end=\"\")\n",
    "        name = input(\"당신의 이름은 무엇인가요? \")\n",
    "        print(name)\n",
    "        time.sleep(1)"
   ]
  },
  {
   "cell_type": "code",
   "execution_count": 3,
   "metadata": {},
   "outputs": [],
   "source": [
    "loading = False\n",
    "def load(min, max, len):\n",
    "    if loading:\n",
    "        clear_line()\n",
    "        rate = int(len*min/max)\n",
    "        print(\"[\"+'-'*rate+\" \"*(len-rate)+f\"]   {min/max*100:.0f}%\", end=\"\")"
   ]
  }
 ],
 "metadata": {
  "kernelspec": {
   "display_name": "base",
   "language": "python",
   "name": "python3"
  },
  "language_info": {
   "codemirror_mode": {
    "name": "ipython",
    "version": 3
   },
   "file_extension": ".py",
   "mimetype": "text/x-python",
   "name": "python",
   "nbconvert_exporter": "python",
   "pygments_lexer": "ipython3",
   "version": "3.10.9"
  },
  "orig_nbformat": 4
 },
 "nbformat": 4,
 "nbformat_minor": 2
}
